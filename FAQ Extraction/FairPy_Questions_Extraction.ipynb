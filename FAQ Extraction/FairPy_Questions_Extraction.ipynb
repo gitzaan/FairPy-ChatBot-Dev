{
  "nbformat": 4,
  "nbformat_minor": 0,
  "metadata": {
    "colab": {
      "provenance": []
    },
    "kernelspec": {
      "name": "python3",
      "display_name": "Python 3"
    },
    "language_info": {
      "name": "python"
    }
  },
  "cells": [
    {
      "cell_type": "code",
      "source": [
        "import json\n",
        "\n",
        "# Mount Google Drive\n",
        "from google.colab import drive\n",
        "drive.mount('/content/drive')\n",
        "\n",
        "# Load the JSON file from Google Drive\n",
        "file_path = '/content/drive/MyDrive/conversations.json'  # Your file path\n",
        "with open(file_path, 'r') as file:\n",
        "    data = json.load(file)\n"
      ],
      "metadata": {
        "colab": {
          "base_uri": "https://localhost:8080/"
        },
        "id": "vY0_CplVjolO",
        "outputId": "1c2ee82a-d397-4834-9f63-9c2d438ed3cb"
      },
      "execution_count": null,
      "outputs": [
        {
          "output_type": "stream",
          "name": "stdout",
          "text": [
            "Mounted at /content/drive\n"
          ]
        }
      ]
    },
    {
      "cell_type": "code",
      "execution_count": null,
      "metadata": {
        "colab": {
          "base_uri": "https://localhost:8080/"
        },
        "id": "LV--P6VBja01",
        "outputId": "19a62a47-5578-4949-dc32-0e26623a0abb"
      },
      "outputs": [
        {
          "output_type": "stream",
          "name": "stdout",
          "text": [
            "Output written to output.txt\n"
          ]
        }
      ],
      "source": [
        "# Initialize results list\n",
        "results = []\n",
        "\n",
        "# Function to process messages\n",
        "def process_messages(messages, start_line):\n",
        "    for i, message in enumerate(messages):\n",
        "        text = message.get('text', '')\n",
        "        author = message.get('author', '')\n",
        "        line_number = start_line + i\n",
        "\n",
        "        if text and '?' in text and author != 'Hasanath Mohammed' and text.strip() != '?':\n",
        "            # Merge with the previous message if from the same author\n",
        "            if i > 0 and messages[i - 1].get('author', '') == author:\n",
        "                previous_text = messages[i - 1].get('text', '')\n",
        "                if previous_text:  # Check if previous_text is not None\n",
        "                    text = previous_text + ' ' + text  # Merge the texts\n",
        "\n",
        "            result = {\n",
        "                'question_text': text,\n",
        "                'question_author': author,\n",
        "                'question_line_number': line_number\n",
        "            }\n",
        "\n",
        "            # Find the answer given by Hasanath Mohammed\n",
        "            if i + 1 < len(messages):\n",
        "                next_message = messages[i + 1]\n",
        "                if next_message.get('author', '') == 'Hasanath Mohammed':\n",
        "                    answer_text = next_message.get('text', '')\n",
        "                    answer_line_number = start_line + i + 1\n",
        "                    result['answer_text'] = answer_text\n",
        "                    result['answer_line_number'] = answer_line_number\n",
        "                    results.append(result)  # Only append if there's an answer\n",
        "\n",
        "# Iterate through each conversation\n",
        "line_number = 1\n",
        "for conversation in data:\n",
        "    messages = conversation['messages']\n",
        "    process_messages(messages, line_number)\n",
        "    line_number += len(messages)  # Update the line number based on the number of messages\n",
        "\n",
        "# Prepare output for writing to a file\n",
        "output = []\n",
        "question_counter = 1\n",
        "for result in results:\n",
        "\n",
        "    output.append(f\"Question {question_counter}: {result['question_text']} (Author: {result['question_author']})\\n\")\n",
        "\n",
        "    if result['answer_text']:\n",
        "        output.append(f\"Answer [Line {result['answer_line_number']}]: {result['answer_text']} (Author: Hasanath Mohammed)\\n\")\n",
        "\n",
        "\n",
        "    output.append(\"--------------------------------------------------------------------------\\n\")\n",
        "    question_counter += 1\n",
        "\n",
        "# Write output to a text file\n",
        "with open('output.txt', 'w') as f:\n",
        "    f.write(''.join(output))\n",
        "\n",
        "print(\"Output written to output.txt\")"
      ]
    },
    {
      "cell_type": "code",
      "source": [],
      "metadata": {
        "id": "hpsHaEgTjnmq"
      },
      "execution_count": null,
      "outputs": []
    }
  ]
}